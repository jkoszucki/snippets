{
 "cells": [
  {
   "cell_type": "code",
   "execution_count": 1,
   "id": "44e1aa3c-82be-4f34-af31-9dccfc80a9c9",
   "metadata": {},
   "outputs": [
    {
     "ename": "ModuleNotFoundError",
     "evalue": "No module named 'adjustText'",
     "output_type": "error",
     "traceback": [
      "\u001b[0;31m---------------------------------------------------------------------------\u001b[0m",
      "\u001b[0;31mModuleNotFoundError\u001b[0m                       Traceback (most recent call last)",
      "Cell \u001b[0;32mIn[1], line 7\u001b[0m\n\u001b[1;32m      5\u001b[0m \u001b[38;5;28;01mimport\u001b[39;00m \u001b[38;5;21;01mitertools\u001b[39;00m\n\u001b[1;32m      6\u001b[0m \u001b[38;5;28;01mimport\u001b[39;00m \u001b[38;5;21;01mmath\u001b[39;00m\n\u001b[0;32m----> 7\u001b[0m \u001b[38;5;28;01mfrom\u001b[39;00m \u001b[38;5;21;01madjustText\u001b[39;00m \u001b[38;5;28;01mimport\u001b[39;00m adjust_text\n\u001b[1;32m      9\u001b[0m sns\u001b[38;5;241m.\u001b[39mset(font_scale\u001b[38;5;241m=\u001b[39m\u001b[38;5;241m1\u001b[39m)\n",
      "\u001b[0;31mModuleNotFoundError\u001b[0m: No module named 'adjustText'"
     ]
    }
   ],
   "source": [
    "import seaborn as sns\n",
    "import numpy as np\n",
    "import matplotlib.pyplot as plt\n",
    "from pathlib import Path\n",
    "import itertools\n",
    "import math\n",
    "from adjustText import adjust_text\n",
    "\n",
    "sns.set(font_scale=1)"
   ]
  },
  {
   "cell_type": "code",
   "execution_count": null,
   "id": "900d2c27-021d-4d59-9775-22e7eca0f911",
   "metadata": {},
   "outputs": [],
   "source": [
    "# load table\n",
    "kl_type = 'KL107'\n",
    "GWAS_result = f'{kl_type}.tsv'\n",
    "\n",
    "gwas_df = pd.read_csv(GWAS_result, sep='\\t')"
   ]
  },
  {
   "cell_type": "code",
   "execution_count": null,
   "id": "b6692bfa-f0ec-4022-8ed0-19634472c44a",
   "metadata": {},
   "outputs": [],
   "source": [
    "# fitler bad chisquer\n",
    "filt_chisq = (gwas_df['notes'] == 'bad-chisq')\n",
    "gwas_df = gwas_df.loc[~filt_chisq]\n",
    "gwas_df['-log(lrt-pvalue)'] = - np.log10(gwas_df['lrt-pvalue'])\n",
    "gwas_df['effect (beta)'] = gwas_df['beta']\n",
    "gwas_df.head(2)"
   ]
  },
  {
   "cell_type": "code",
   "execution_count": null,
   "id": "ce9516bc-0bc1-4ca2-b5f6-fa09b18fa131",
   "metadata": {},
   "outputs": [],
   "source": [
    "# plot \n",
    "fig, ax = plt.subplots(1,1, figsize=(8,6))\n",
    "fig.suptitle(f'GWAS results for {kl_type}')\n",
    "\n",
    "# vulcano plot\n",
    "sns.scatterplot(data=gwas_df, x='effect (beta)', y='-log(lrt-pvalue)', ax=ax, legend=False)\n",
    "\n",
    "# add labels\n",
    "data_labels = list(gwas_df[['variant', 'effect (beta)', '-log(lrt-pvalue)']].itertuples(index=False, name=None))\n",
    "\n",
    "texts = [plt.text(x, y, label, ha='center', va='center', size=10) for label, x, y in data_labels if y >= 4]\n",
    "adjust_text(texts)\n"
   ]
  },
  {
   "cell_type": "code",
   "execution_count": null,
   "id": "981d759b-e9e4-4d94-ae10-67c2acfba4a1",
   "metadata": {},
   "outputs": [],
   "source": []
  },
  {
   "cell_type": "code",
   "execution_count": null,
   "id": "1324cce6-9e47-4987-a4dd-6e1f24fd3bc5",
   "metadata": {},
   "outputs": [],
   "source": []
  }
 ],
 "metadata": {
  "kernelspec": {
   "display_name": "Python 3 (ipykernel)",
   "language": "python",
   "name": "python3"
  },
  "language_info": {
   "codemirror_mode": {
    "name": "ipython",
    "version": 3
   },
   "file_extension": ".py",
   "mimetype": "text/x-python",
   "name": "python",
   "nbconvert_exporter": "python",
   "pygments_lexer": "ipython3",
   "version": "3.11.0"
  }
 },
 "nbformat": 4,
 "nbformat_minor": 5
}
